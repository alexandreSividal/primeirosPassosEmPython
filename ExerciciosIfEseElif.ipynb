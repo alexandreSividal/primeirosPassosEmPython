{
  "nbformat": 4,
  "nbformat_minor": 0,
  "metadata": {
    "colab": {
      "provenance": [],
      "authorship_tag": "ABX9TyNTPdJ0gat4OI3gRZk5vjIi",
      "include_colab_link": true
    },
    "kernelspec": {
      "name": "python3",
      "display_name": "Python 3"
    },
    "language_info": {
      "name": "python"
    }
  },
  "cells": [
    {
      "cell_type": "markdown",
      "metadata": {
        "id": "view-in-github",
        "colab_type": "text"
      },
      "source": [
        "<a href=\"https://colab.research.google.com/github/alexandreSividal/primeirosPassosEmPython/blob/main/ExerciciosIfEseElif.ipynb\" target=\"_parent\"><img src=\"https://colab.research.google.com/assets/colab-badge.svg\" alt=\"Open In Colab\"/></a>"
      ]
    },
    {
      "cell_type": "code",
      "execution_count": 3,
      "metadata": {
        "colab": {
          "base_uri": "https://localhost:8080/"
        },
        "id": "z6YnMvNCv_8w",
        "outputId": "32cc3d8f-fa18-4b14-9d7a-d6d29f0b8412"
      },
      "outputs": [
        {
          "output_type": "stream",
          "name": "stdout",
          "text": [
            "Digite a quantidade de maçãs vendidas:15\n",
            "Digite a quantidade de bananas vendidas:15\n",
            "Houve empate nas vendas de maçãs e bananas.\n"
          ]
        }
      ],
      "source": [
        "vendasMacas = int(input('Digite a quantidade de maçãs vendidas:'))\n",
        "vendasBananas = int(input('Digite a quantidade de bananas vendidas:'))\n",
        "\n",
        "if vendasMacas > vendasBananas:\n",
        "  print ('As maçãs tiveram mais vendas.')\n",
        "elif vendasBananas > vendasMacas:\n",
        "  print ('As bananas tiveram mais vendas.')\n",
        "else:\n",
        "  print ('Houve empate nas vendas de maçãs e bananas.')"
      ]
    },
    {
      "cell_type": "code",
      "source": [
        "atividadeA = int(input('Informe os dias para a atividade A:'))\n",
        "atividadeB = int(input('Informe os dias para a atividade B:'))\n",
        "atividadeC = int(input('Informe os dias para a atividade C:'))\n",
        "tempoTotal = atividadeA + atividadeB + atividadeC\n",
        "\n",
        "if atividadeA < 0 or atividadeB < 0 or atividadeC < 0:\n",
        "  print ('Os dias não podem ser negativos.')\n",
        "else:\n",
        "  print (f'O tempo total para concluir as atividade é de {tempoTotal} dias.')"
      ],
      "metadata": {
        "colab": {
          "base_uri": "https://localhost:8080/"
        },
        "id": "Ov-9kx2T58B5",
        "outputId": "a509c386-23ed-4a5f-a41b-977c96077674"
      },
      "execution_count": 6,
      "outputs": [
        {
          "output_type": "stream",
          "name": "stdout",
          "text": [
            "Informe os dias para a atividade A:2\n",
            "Informe os dias para a atividade B:-4\n",
            "Informe os dias para a atividade C:2\n",
            "Os dias não podem ser negativos.\n"
          ]
        }
      ]
    },
    {
      "cell_type": "code",
      "source": [
        "temperaturaServidores = int(input('Digite a temperatura atual (em °C):'))\n",
        "\n",
        "if temperaturaServidores > 25:\n",
        "  print('Alerta! Temperatura acima do limite permitido.')\n",
        "else:\n",
        "  print ('Temperatura ok.')"
      ],
      "metadata": {
        "colab": {
          "base_uri": "https://localhost:8080/"
        },
        "id": "-eVRiCLG85a3",
        "outputId": "c7285df5-4fff-4860-fd40-604ea9cec132"
      },
      "execution_count": 9,
      "outputs": [
        {
          "output_type": "stream",
          "name": "stdout",
          "text": [
            "Digite a temperatura atual (em °C):25\n",
            "Temperatura ok.\n"
          ]
        }
      ]
    },
    {
      "cell_type": "code",
      "source": [
        "peso = float(input('Digite seu peso (em kg):'))\n",
        "altura = float(input('Digite sua altura (em metros):'))\n",
        "imc = peso / altura**2\n",
        "\n",
        "if imc < 18.5:\n",
        "  print ('Você está abaixo do seu peso ideal.')\n",
        "elif 18.5 <= imc < 25:\n",
        "  print('Você está no seu peso ideal.')\n",
        "elif imc >= 25:\n",
        "  print ('Você está acima do seu peso ideal.')\n"
      ],
      "metadata": {
        "colab": {
          "base_uri": "https://localhost:8080/"
        },
        "id": "oTt_dGN69cxm",
        "outputId": "bf186126-9278-44ad-a2db-b0d29b20768c"
      },
      "execution_count": 16,
      "outputs": [
        {
          "output_type": "stream",
          "name": "stdout",
          "text": [
            "Digite seu peso (em kg):80\n",
            "Digite sua altura (em metros):1.78\n",
            "Você está acima do seu peso ideal.\n"
          ]
        }
      ]
    },
    {
      "cell_type": "code",
      "source": [
        "gastos = float(input('Digite o total de despesas do mês (em R$):'))\n",
        "limiteGastos = 3000\n",
        "\n",
        "if gastos > limiteGastos:\n",
        "  print ('Atenção, você ultrapassou o limite do seu orçamento!!!')\n",
        "else:\n",
        "  positivo = limiteGastos - gastos\n",
        "  print(f'Parabéns, você possui um saldo positivo de R${positivo} dentro do seu orçamento.')"
      ],
      "metadata": {
        "colab": {
          "base_uri": "https://localhost:8080/"
        },
        "id": "WY-kC3Ow-1uo",
        "outputId": "29afd65b-3508-4128-c496-8d84f6b66fcc"
      },
      "execution_count": 19,
      "outputs": [
        {
          "output_type": "stream",
          "name": "stdout",
          "text": [
            "Digite o total de despesas do mês (em R$):2500\n",
            "Parabéns, você possui um saldo positivo de R$500.0 dentro do seu orçamento.\n"
          ]
        }
      ]
    },
    {
      "cell_type": "code",
      "source": [
        "horaAtual = int(input('Digite a hora atual (formato 24 horas):'))\n",
        "\n",
        "if horaAtual > 8 and horaAtual <= 18:\n",
        "  print ('Acesso permitido.')\n",
        "else:\n",
        "  print ('Acesso negado.')"
      ],
      "metadata": {
        "colab": {
          "base_uri": "https://localhost:8080/"
        },
        "id": "Xiukhu0A_98G",
        "outputId": "0af4db84-ff02-48a3-a615-a0e206dedb31"
      },
      "execution_count": 22,
      "outputs": [
        {
          "output_type": "stream",
          "name": "stdout",
          "text": [
            "Digite a hora atual (formato 24 horas):14\n",
            "Acesso permitido.\n"
          ]
        }
      ]
    },
    {
      "cell_type": "code",
      "source": [
        "nota1 = float(input('Digite a primeira nota:'))\n",
        "nota2 = float(input('Digite a segunda nota:'))\n",
        "nota3 = float(input('Digite a terceira nota:'))\n",
        "media = (nota1 + nota2 + nota3) / 3\n",
        "\n",
        "if media >= 7:\n",
        "  print ('Aluno(a) aprovado.')\n",
        "elif 7 > media >= 5:\n",
        "  print ('Aluno(a) em recuperação.')\n",
        "else:\n",
        "  print ('Aluno(a) reprovado.')"
      ],
      "metadata": {
        "colab": {
          "base_uri": "https://localhost:8080/"
        },
        "id": "EMr5r-H7BZvn",
        "outputId": "b514245c-f6bf-43ff-b423-deeed2786df5"
      },
      "execution_count": 25,
      "outputs": [
        {
          "output_type": "stream",
          "name": "stdout",
          "text": [
            "Digite a primeira nota:4\n",
            "Digite a segunda nota:4\n",
            "Digite a terceira nota:2\n",
            "Aluno(a) reprovado.\n"
          ]
        }
      ]
    },
    {
      "cell_type": "code",
      "source": [
        "distancia = float(input('Digite a distância percorrida:'))\n",
        "\n",
        "if distancia <= 100:\n",
        "  print ('O valor a ser pago de pedágio é R$10,00.')\n",
        "elif 100 < distancia <= 200:\n",
        "  print ('O valor a ser pago de pedágio é R$20,00.')\n",
        "else:\n",
        "  print ('O valor a ser pago de pedágio é R$30,00.')"
      ],
      "metadata": {
        "colab": {
          "base_uri": "https://localhost:8080/"
        },
        "id": "a-7lWnycCO3n",
        "outputId": "3aabd8d7-e136-49eb-ef4e-eae32db8d6a8"
      },
      "execution_count": 28,
      "outputs": [
        {
          "output_type": "stream",
          "name": "stdout",
          "text": [
            "Digite a distância percorrida:30\n",
            "O valor a ser pago de pedágio é R$10,00.\n"
          ]
        }
      ]
    },
    {
      "cell_type": "code",
      "source": [
        "numero = int(input('Digite um numero inteiro:'))\n",
        "\n",
        "if numero % 2 == 0:\n",
        "  print ('O número é par.')\n",
        "else:\n",
        "  print('O número é impar.')"
      ],
      "metadata": {
        "colab": {
          "base_uri": "https://localhost:8080/"
        },
        "id": "1Mk7JoO2C6i3",
        "outputId": "e5701dbd-22c9-4421-ef62-0b6a72378158"
      },
      "execution_count": 31,
      "outputs": [
        {
          "output_type": "stream",
          "name": "stdout",
          "text": [
            "Digite um numero inteiro:158\n",
            "O número é par.\n"
          ]
        }
      ]
    },
    {
      "cell_type": "code",
      "source": [
        "renda = float(input('Digite o valor da sua renda mensal:'))\n",
        "parcela = float(input('Digite o valor da parcela desejada:'))\n",
        "porcentagemRenda = (parcela/100) * 30\n",
        "\n",
        "if renda < 2000:\n",
        "  print ('Empréstimo negado. Renda mensal deve ser maior que R$2.000,00.')\n",
        "elif renda >= 2000 and porcentagemRenda < renda*0.3:\n",
        "  print ('Empréstimo autorizado.')\n",
        "else:\n",
        "  print('Empréstimo negado, tente reduzir o valor da parcela.')"
      ],
      "metadata": {
        "colab": {
          "base_uri": "https://localhost:8080/"
        },
        "id": "begPl_nqDSQW",
        "outputId": "c05ec66d-8165-49a4-8a0b-668a2b5a6e7a"
      },
      "execution_count": 36,
      "outputs": [
        {
          "output_type": "stream",
          "name": "stdout",
          "text": [
            "Digite o valor da sua renda mensal:2000\n",
            "Digite o valor da parcela desejada:400\n",
            "Empréstimo autorizado.\n"
          ]
        }
      ]
    },
    {
      "cell_type": "code",
      "source": [],
      "metadata": {
        "id": "JHnrva7VFMbl"
      },
      "execution_count": null,
      "outputs": []
    }
  ]
}