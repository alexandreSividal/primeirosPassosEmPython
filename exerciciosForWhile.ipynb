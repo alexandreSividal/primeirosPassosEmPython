{
  "nbformat": 4,
  "nbformat_minor": 0,
  "metadata": {
    "colab": {
      "provenance": [],
      "authorship_tag": "ABX9TyM76FuCGGBenZerY/rEP8aA",
      "include_colab_link": true
    },
    "kernelspec": {
      "name": "python3",
      "display_name": "Python 3"
    },
    "language_info": {
      "name": "python"
    }
  },
  "cells": [
    {
      "cell_type": "markdown",
      "metadata": {
        "id": "view-in-github",
        "colab_type": "text"
      },
      "source": [
        "<a href=\"https://colab.research.google.com/github/alexandreSividal/primeirosPassosEmPython/blob/main/exerciciosForWhile.ipynb\" target=\"_parent\"><img src=\"https://colab.research.google.com/assets/colab-badge.svg\" alt=\"Open In Colab\"/></a>"
      ]
    },
    {
      "cell_type": "code",
      "execution_count": 4,
      "metadata": {
        "colab": {
          "base_uri": "https://localhost:8080/"
        },
        "id": "VRUa2YKHMUdN",
        "outputId": "8fa422bf-db38-4af1-fdbb-1c74b9871afc"
      },
      "outputs": [
        {
          "output_type": "stream",
          "name": "stdout",
          "text": [
            "João\n",
            "Maria\n",
            "Carlos\n",
            "Ana\n",
            "Beatriz\n"
          ]
        }
      ],
      "source": [
        "clientes = [\"João\", \"Maria\", \"Carlos\", \"Ana\", \"Beatriz\"]\n",
        "\n",
        "for nomes in clientes:\n",
        "  print (nomes)"
      ]
    },
    {
      "cell_type": "code",
      "source": [
        "contador = 2\n",
        "\n",
        "while contador < 10:\n",
        "    print(\"Processando dados...\")\n",
        "    contador +=1"
      ],
      "metadata": {
        "colab": {
          "base_uri": "https://localhost:8080/"
        },
        "id": "1pSt0ACwNPZY",
        "outputId": "cb86fe0d-5136-4ec9-a46d-ece2a24fadb6"
      },
      "execution_count": 9,
      "outputs": [
        {
          "output_type": "stream",
          "name": "stdout",
          "text": [
            "Processando dados...\n",
            "Processando dados...\n",
            "Processando dados...\n",
            "Processando dados...\n",
            "Processando dados...\n",
            "Processando dados...\n",
            "Processando dados...\n",
            "Processando dados...\n"
          ]
        }
      ]
    },
    {
      "cell_type": "code",
      "source": [
        "mensagens = 0\n",
        "\n",
        "while mensagens < 5:\n",
        "  print('Bem-vindo ao buscante!')\n",
        "  mensagens +=1"
      ],
      "metadata": {
        "colab": {
          "base_uri": "https://localhost:8080/"
        },
        "id": "AccYKDrCQHSl",
        "outputId": "0f33dd39-3b97-4bfa-97bd-623cf39f9572"
      },
      "execution_count": 11,
      "outputs": [
        {
          "output_type": "stream",
          "name": "stdout",
          "text": [
            "Bem-vindo ao buscante!\n",
            "Bem-vindo ao buscante!\n",
            "Bem-vindo ao buscante!\n",
            "Bem-vindo ao buscante!\n",
            "Bem-vindo ao buscante!\n"
          ]
        }
      ]
    },
    {
      "cell_type": "code",
      "source": [
        "valores = [10, 20, 30, 40, 50]\n",
        "\n",
        "print (f'A soma total das receitas é: {sum(valores)}.')"
      ],
      "metadata": {
        "colab": {
          "base_uri": "https://localhost:8080/"
        },
        "id": "ZFg5w-WiQ57m",
        "outputId": "d78b26e3-ea7f-4758-9391-06fb44aaf692"
      },
      "execution_count": 16,
      "outputs": [
        {
          "output_type": "stream",
          "name": "stdout",
          "text": [
            "A soma total das receitas é: 150.\n"
          ]
        }
      ]
    },
    {
      "cell_type": "code",
      "source": [
        "valores = [10, 20, 30, 40, 50]\n",
        "\n",
        "soma = 0\n",
        "\n",
        "for numero in valores:\n",
        "  soma += numero\n",
        "print (soma)"
      ],
      "metadata": {
        "colab": {
          "base_uri": "https://localhost:8080/"
        },
        "id": "GbLVDIP1RC5V",
        "outputId": "d4f6ef28-ff15-4a67-fbd4-e723850a9af7"
      },
      "execution_count": 17,
      "outputs": [
        {
          "output_type": "stream",
          "name": "stdout",
          "text": [
            "150\n"
          ]
        }
      ]
    },
    {
      "cell_type": "code",
      "source": [
        "projetos = [\"website\", \"jogo\", \"análise de dados\", None, \"aplicativo móvel\"]\n",
        "\n",
        "for projeto in projetos:\n",
        "  if projeto == None:\n",
        "    print('Projeto ausente.')\n",
        "  else:\n",
        "    print(projeto)\n"
      ],
      "metadata": {
        "colab": {
          "base_uri": "https://localhost:8080/"
        },
        "id": "6O3du0bcSFqV",
        "outputId": "950458d9-5ab6-46f9-91fe-d24f520e4a39"
      },
      "execution_count": 20,
      "outputs": [
        {
          "output_type": "stream",
          "name": "stdout",
          "text": [
            "website\n",
            "jogo\n",
            "análise de dados\n",
            "Projeto ausente.\n",
            "aplicativo móvel\n"
          ]
        }
      ]
    },
    {
      "cell_type": "code",
      "source": [
        "livros = [\"1984\", \"Dom Casmurro\", \"O Pequeno Príncipe\", \"O Hobbit\", \"Orgulho e Preconceito\"]\n",
        "\n",
        "for livro in livros:\n",
        "  if livro == 'O Hobbit':\n",
        "    print (f'Livro encontrado: {livro}')\n",
        "    break"
      ],
      "metadata": {
        "colab": {
          "base_uri": "https://localhost:8080/"
        },
        "id": "m7HZdvLXTszG",
        "outputId": "803ba6fa-ba62-450d-d478-1d681bc3d40c"
      },
      "execution_count": 24,
      "outputs": [
        {
          "output_type": "stream",
          "name": "stdout",
          "text": [
            "Livro encontrado: O Hobbit\n"
          ]
        }
      ]
    },
    {
      "cell_type": "code",
      "source": [
        "estoque = 5\n",
        "\n",
        "while estoque > 0:\n",
        "  print (f'Venda realizada. Estoque restante: {estoque}')\n",
        "  estoque -= 1\n",
        "print('Estoque esgotado.')"
      ],
      "metadata": {
        "colab": {
          "base_uri": "https://localhost:8080/"
        },
        "id": "0SHyhPr5U5jm",
        "outputId": "656ad6c6-75d2-41df-a1b1-6cb0c5311848"
      },
      "execution_count": 27,
      "outputs": [
        {
          "output_type": "stream",
          "name": "stdout",
          "text": [
            "Venda realizada. Estoque restante: 5\n",
            "Venda realizada. Estoque restante: 4\n",
            "Venda realizada. Estoque restante: 3\n",
            "Venda realizada. Estoque restante: 2\n",
            "Venda realizada. Estoque restante: 1\n",
            "Estoque esgotado.\n"
          ]
        }
      ]
    },
    {
      "cell_type": "code",
      "source": [
        "segundos = 10\n",
        "\n",
        "for segundos in range (10,0,-1):\n",
        "  if segundos % 2 == 0:\n",
        "    print(f'Faltam apenas {segundos} segundos - Não perca essa oportunidade.')\n",
        "  else:\n",
        "    print(f'A contagem continua: {segundos} segundos restante.')\n",
        "print ('Aproveite a promoção agora!')"
      ],
      "metadata": {
        "colab": {
          "base_uri": "https://localhost:8080/"
        },
        "id": "A4WxI9a6WagX",
        "outputId": "d094adbb-eee6-4687-f6c8-0e455104dda8"
      },
      "execution_count": 30,
      "outputs": [
        {
          "output_type": "stream",
          "name": "stdout",
          "text": [
            "Faltam apenas 10 segundos - Não perca essa oportunidade.\n",
            "A contagem continua: 9 segundos restante.\n",
            "Faltam apenas 8 segundos - Não perca essa oportunidade.\n",
            "A contagem continua: 7 segundos restante.\n",
            "Faltam apenas 6 segundos - Não perca essa oportunidade.\n",
            "A contagem continua: 5 segundos restante.\n",
            "Faltam apenas 4 segundos - Não perca essa oportunidade.\n",
            "A contagem continua: 3 segundos restante.\n",
            "Faltam apenas 2 segundos - Não perca essa oportunidade.\n",
            "A contagem continua: 1 segundos restante.\n",
            "Aproveite a promoção agora!\n"
          ]
        }
      ]
    },
    {
      "cell_type": "code",
      "source": [
        "livros = [\n",
        "    {\"nome\": \"1984\", \"estoque\": 5},\n",
        "    {\"nome\": \"Dom Casmurro\", \"estoque\": 0},\n",
        "    {\"nome\": \"O Pequeno Príncipe\", \"estoque\": 3},\n",
        "    {\"nome\": \"O Hobbit\", \"estoque\": 0},\n",
        "    {\"nome\": \"Orgulho e Preconceito\", \"estoque\": 2}\n",
        "]\n",
        "\n",
        "for livro in livros:\n",
        "  if livro ['estoque'] == 0:\n",
        "    continue\n",
        "  print (f'Livro disponível: {livro[\"nome\"]}')"
      ],
      "metadata": {
        "colab": {
          "base_uri": "https://localhost:8080/"
        },
        "id": "_CtT7q_QYdFG",
        "outputId": "0cda01e0-777d-4630-fec3-5c24ba3243a3"
      },
      "execution_count": 35,
      "outputs": [
        {
          "output_type": "stream",
          "name": "stdout",
          "text": [
            "Livro disponível: 1984\n",
            "Livro disponível: O Pequeno Príncipe\n",
            "Livro disponível: Orgulho e Preconceito\n"
          ]
        }
      ]
    },
    {
      "cell_type": "code",
      "source": [
        "while True:\n",
        "  nome = input('Digite o seu nome de usuário:')\n",
        "  senha = input('Digite sua senha:')\n",
        "\n",
        "  if len(nome) < 5:\n",
        "    print ('O nome de usuário deve ter no minimo 5 caracteres.')\n",
        "    continue\n",
        "\n",
        "  if len(senha) < 8:\n",
        "    print ('A senha deve ter no minimo 8 caracteres.')\n",
        "    continue\n",
        "\n",
        "  print('Cadastro realizado com sucesso.')\n",
        "  break"
      ],
      "metadata": {
        "colab": {
          "base_uri": "https://localhost:8080/"
        },
        "id": "oaeUhsxviaFY",
        "outputId": "06feeec6-86a5-4eee-8fb2-f2bdb4800dcf"
      },
      "execution_count": null,
      "outputs": [
        {
          "output_type": "stream",
          "name": "stdout",
          "text": [
            "Digite o seu nome de usuário:user22\n",
            "Digite sua senha:23456\n",
            "A senha deve ter no minimo 8 caracteres.\n"
          ]
        }
      ]
    },
    {
      "cell_type": "code",
      "source": [],
      "metadata": {
        "id": "D-0JI4pQnN_5"
      },
      "execution_count": null,
      "outputs": []
    }
  ]
}